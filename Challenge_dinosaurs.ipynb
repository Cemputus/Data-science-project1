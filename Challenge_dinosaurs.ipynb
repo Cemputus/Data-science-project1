{
 "cells": [
  {
   "cell_type": "code",
   "execution_count": 29,
   "metadata": {},
   "outputs": [],
   "source": [
    "## importing libraries\n",
    "import pandas as pd\n",
    "import numpy as np\n",
    "import matplotlib.pyplot as plt\n",
    "import seaborn as sns\n"
   ]
  },
  {
   "cell_type": "code",
   "execution_count": 30,
   "metadata": {},
   "outputs": [],
   "source": [
    "### reading the data\n",
    "dinosaurs = pd.read_csv('data/dinosaurs.csv')\n"
   ]
  },
  {
   "cell_type": "code",
   "execution_count": 31,
   "metadata": {},
   "outputs": [
    {
     "data": {
      "text/html": [
       "<div>\n",
       "<style scoped>\n",
       "    .dataframe tbody tr th:only-of-type {\n",
       "        vertical-align: middle;\n",
       "    }\n",
       "\n",
       "    .dataframe tbody tr th {\n",
       "        vertical-align: top;\n",
       "    }\n",
       "\n",
       "    .dataframe thead th {\n",
       "        text-align: right;\n",
       "    }\n",
       "</style>\n",
       "<table border=\"1\" class=\"dataframe\">\n",
       "  <thead>\n",
       "    <tr style=\"text-align: right;\">\n",
       "      <th></th>\n",
       "      <th>occurrence_no</th>\n",
       "      <th>name</th>\n",
       "      <th>diet</th>\n",
       "      <th>type</th>\n",
       "      <th>length_m</th>\n",
       "      <th>max_ma</th>\n",
       "      <th>min_ma</th>\n",
       "      <th>region</th>\n",
       "      <th>lng</th>\n",
       "      <th>lat</th>\n",
       "      <th>class</th>\n",
       "      <th>family</th>\n",
       "    </tr>\n",
       "  </thead>\n",
       "  <tbody>\n",
       "    <tr>\n",
       "      <th>0</th>\n",
       "      <td>130294</td>\n",
       "      <td>Protarchaeopteryx</td>\n",
       "      <td>omnivorous</td>\n",
       "      <td>small theropod</td>\n",
       "      <td>2.0</td>\n",
       "      <td>130.0</td>\n",
       "      <td>122.46</td>\n",
       "      <td>Liaoning</td>\n",
       "      <td>120.733330</td>\n",
       "      <td>41.799999</td>\n",
       "      <td>Saurischia</td>\n",
       "      <td>Archaeopterygidae</td>\n",
       "    </tr>\n",
       "    <tr>\n",
       "      <th>1</th>\n",
       "      <td>130295</td>\n",
       "      <td>Caudipteryx</td>\n",
       "      <td>omnivorous</td>\n",
       "      <td>small theropod</td>\n",
       "      <td>1.0</td>\n",
       "      <td>130.0</td>\n",
       "      <td>122.46</td>\n",
       "      <td>Liaoning</td>\n",
       "      <td>120.733330</td>\n",
       "      <td>41.799999</td>\n",
       "      <td>Saurischia</td>\n",
       "      <td>Caudipterygidae</td>\n",
       "    </tr>\n",
       "    <tr>\n",
       "      <th>2</th>\n",
       "      <td>139242</td>\n",
       "      <td>Gorgosaurus</td>\n",
       "      <td>carnivorous</td>\n",
       "      <td>large theropod</td>\n",
       "      <td>8.6</td>\n",
       "      <td>83.5</td>\n",
       "      <td>70.60</td>\n",
       "      <td>Alberta</td>\n",
       "      <td>-111.528732</td>\n",
       "      <td>50.740726</td>\n",
       "      <td>Saurischia</td>\n",
       "      <td>Tyrannosauridae</td>\n",
       "    </tr>\n",
       "    <tr>\n",
       "      <th>3</th>\n",
       "      <td>139250</td>\n",
       "      <td>Gorgosaurus</td>\n",
       "      <td>carnivorous</td>\n",
       "      <td>large theropod</td>\n",
       "      <td>8.6</td>\n",
       "      <td>83.5</td>\n",
       "      <td>70.60</td>\n",
       "      <td>Alberta</td>\n",
       "      <td>-111.549347</td>\n",
       "      <td>50.737015</td>\n",
       "      <td>Saurischia</td>\n",
       "      <td>Tyrannosauridae</td>\n",
       "    </tr>\n",
       "    <tr>\n",
       "      <th>4</th>\n",
       "      <td>139252</td>\n",
       "      <td>Gorgosaurus</td>\n",
       "      <td>carnivorous</td>\n",
       "      <td>large theropod</td>\n",
       "      <td>8.6</td>\n",
       "      <td>83.5</td>\n",
       "      <td>70.60</td>\n",
       "      <td>Alberta</td>\n",
       "      <td>-111.564636</td>\n",
       "      <td>50.723866</td>\n",
       "      <td>Saurischia</td>\n",
       "      <td>Tyrannosauridae</td>\n",
       "    </tr>\n",
       "    <tr>\n",
       "      <th>...</th>\n",
       "      <td>...</td>\n",
       "      <td>...</td>\n",
       "      <td>...</td>\n",
       "      <td>...</td>\n",
       "      <td>...</td>\n",
       "      <td>...</td>\n",
       "      <td>...</td>\n",
       "      <td>...</td>\n",
       "      <td>...</td>\n",
       "      <td>...</td>\n",
       "      <td>...</td>\n",
       "      <td>...</td>\n",
       "    </tr>\n",
       "    <tr>\n",
       "      <th>4946</th>\n",
       "      <td>1360627</td>\n",
       "      <td>Isaberrysaura</td>\n",
       "      <td>NaN</td>\n",
       "      <td>NaN</td>\n",
       "      <td>NaN</td>\n",
       "      <td>171.6</td>\n",
       "      <td>168.40</td>\n",
       "      <td>Neuquén</td>\n",
       "      <td>-70.263290</td>\n",
       "      <td>-39.205288</td>\n",
       "      <td>Ornithischia</td>\n",
       "      <td>NaN</td>\n",
       "    </tr>\n",
       "    <tr>\n",
       "      <th>4947</th>\n",
       "      <td>1363632</td>\n",
       "      <td>Stegosaurus</td>\n",
       "      <td>herbivorous</td>\n",
       "      <td>armored dinosaur</td>\n",
       "      <td>9.0</td>\n",
       "      <td>157.3</td>\n",
       "      <td>152.10</td>\n",
       "      <td>Wyoming</td>\n",
       "      <td>-107.816666</td>\n",
       "      <td>44.650002</td>\n",
       "      <td>Ornithischia</td>\n",
       "      <td>Stegosauridae</td>\n",
       "    </tr>\n",
       "    <tr>\n",
       "      <th>4948</th>\n",
       "      <td>1363633</td>\n",
       "      <td>Othnielosaurus</td>\n",
       "      <td>NaN</td>\n",
       "      <td>NaN</td>\n",
       "      <td>NaN</td>\n",
       "      <td>157.3</td>\n",
       "      <td>152.10</td>\n",
       "      <td>Wyoming</td>\n",
       "      <td>-107.816666</td>\n",
       "      <td>44.650002</td>\n",
       "      <td>Ornithischia</td>\n",
       "      <td>NaN</td>\n",
       "    </tr>\n",
       "    <tr>\n",
       "      <th>4949</th>\n",
       "      <td>1364695</td>\n",
       "      <td>Iguanodon</td>\n",
       "      <td>herbivorous</td>\n",
       "      <td>ornithopod</td>\n",
       "      <td>10.0</td>\n",
       "      <td>145.0</td>\n",
       "      <td>139.80</td>\n",
       "      <td>Niedersachsen</td>\n",
       "      <td>9.959357</td>\n",
       "      <td>52.341167</td>\n",
       "      <td>Ornithischia</td>\n",
       "      <td>NaN</td>\n",
       "    </tr>\n",
       "    <tr>\n",
       "      <th>4950</th>\n",
       "      <td>1365108</td>\n",
       "      <td>Luluichnus</td>\n",
       "      <td>NaN</td>\n",
       "      <td>NaN</td>\n",
       "      <td>NaN</td>\n",
       "      <td>139.8</td>\n",
       "      <td>125.00</td>\n",
       "      <td>Western Australia</td>\n",
       "      <td>122.142029</td>\n",
       "      <td>-17.489502</td>\n",
       "      <td>Ornithischia</td>\n",
       "      <td>NaN</td>\n",
       "    </tr>\n",
       "  </tbody>\n",
       "</table>\n",
       "<p>4951 rows × 12 columns</p>\n",
       "</div>"
      ],
      "text/plain": [
       "      occurrence_no               name         diet              type  \\\n",
       "0            130294  Protarchaeopteryx   omnivorous    small theropod   \n",
       "1            130295        Caudipteryx   omnivorous    small theropod   \n",
       "2            139242        Gorgosaurus  carnivorous    large theropod   \n",
       "3            139250        Gorgosaurus  carnivorous    large theropod   \n",
       "4            139252        Gorgosaurus  carnivorous    large theropod   \n",
       "...             ...                ...          ...               ...   \n",
       "4946        1360627      Isaberrysaura          NaN               NaN   \n",
       "4947        1363632        Stegosaurus  herbivorous  armored dinosaur   \n",
       "4948        1363633     Othnielosaurus          NaN               NaN   \n",
       "4949        1364695          Iguanodon  herbivorous        ornithopod   \n",
       "4950        1365108         Luluichnus          NaN               NaN   \n",
       "\n",
       "      length_m  max_ma  min_ma             region         lng        lat  \\\n",
       "0          2.0   130.0  122.46           Liaoning  120.733330  41.799999   \n",
       "1          1.0   130.0  122.46           Liaoning  120.733330  41.799999   \n",
       "2          8.6    83.5   70.60            Alberta -111.528732  50.740726   \n",
       "3          8.6    83.5   70.60            Alberta -111.549347  50.737015   \n",
       "4          8.6    83.5   70.60            Alberta -111.564636  50.723866   \n",
       "...        ...     ...     ...                ...         ...        ...   \n",
       "4946       NaN   171.6  168.40            Neuquén  -70.263290 -39.205288   \n",
       "4947       9.0   157.3  152.10            Wyoming -107.816666  44.650002   \n",
       "4948       NaN   157.3  152.10            Wyoming -107.816666  44.650002   \n",
       "4949      10.0   145.0  139.80      Niedersachsen    9.959357  52.341167   \n",
       "4950       NaN   139.8  125.00  Western Australia  122.142029 -17.489502   \n",
       "\n",
       "             class             family  \n",
       "0       Saurischia  Archaeopterygidae  \n",
       "1       Saurischia    Caudipterygidae  \n",
       "2       Saurischia    Tyrannosauridae  \n",
       "3       Saurischia    Tyrannosauridae  \n",
       "4       Saurischia    Tyrannosauridae  \n",
       "...            ...                ...  \n",
       "4946  Ornithischia                NaN  \n",
       "4947  Ornithischia      Stegosauridae  \n",
       "4948  Ornithischia                NaN  \n",
       "4949  Ornithischia                NaN  \n",
       "4950  Ornithischia                NaN  \n",
       "\n",
       "[4951 rows x 12 columns]"
      ]
     },
     "execution_count": 31,
     "metadata": {},
     "output_type": "execute_result"
    }
   ],
   "source": [
    "dinosaurs"
   ]
  },
  {
   "cell_type": "code",
   "execution_count": 32,
   "metadata": {},
   "outputs": [
    {
     "data": {
      "text/html": [
       "<div>\n",
       "<style scoped>\n",
       "    .dataframe tbody tr th:only-of-type {\n",
       "        vertical-align: middle;\n",
       "    }\n",
       "\n",
       "    .dataframe tbody tr th {\n",
       "        vertical-align: top;\n",
       "    }\n",
       "\n",
       "    .dataframe thead th {\n",
       "        text-align: right;\n",
       "    }\n",
       "</style>\n",
       "<table border=\"1\" class=\"dataframe\">\n",
       "  <thead>\n",
       "    <tr style=\"text-align: right;\">\n",
       "      <th></th>\n",
       "      <th>occurrence_no</th>\n",
       "      <th>name</th>\n",
       "      <th>diet</th>\n",
       "      <th>type</th>\n",
       "      <th>length_m</th>\n",
       "      <th>max_ma</th>\n",
       "      <th>min_ma</th>\n",
       "      <th>region</th>\n",
       "      <th>lng</th>\n",
       "      <th>lat</th>\n",
       "      <th>class</th>\n",
       "      <th>family</th>\n",
       "    </tr>\n",
       "  </thead>\n",
       "  <tbody>\n",
       "    <tr>\n",
       "      <th>0</th>\n",
       "      <td>130294</td>\n",
       "      <td>Protarchaeopteryx</td>\n",
       "      <td>omnivorous</td>\n",
       "      <td>small theropod</td>\n",
       "      <td>2.0</td>\n",
       "      <td>130.0</td>\n",
       "      <td>122.46</td>\n",
       "      <td>Liaoning</td>\n",
       "      <td>120.733330</td>\n",
       "      <td>41.799999</td>\n",
       "      <td>Saurischia</td>\n",
       "      <td>Archaeopterygidae</td>\n",
       "    </tr>\n",
       "    <tr>\n",
       "      <th>1</th>\n",
       "      <td>130295</td>\n",
       "      <td>Caudipteryx</td>\n",
       "      <td>omnivorous</td>\n",
       "      <td>small theropod</td>\n",
       "      <td>1.0</td>\n",
       "      <td>130.0</td>\n",
       "      <td>122.46</td>\n",
       "      <td>Liaoning</td>\n",
       "      <td>120.733330</td>\n",
       "      <td>41.799999</td>\n",
       "      <td>Saurischia</td>\n",
       "      <td>Caudipterygidae</td>\n",
       "    </tr>\n",
       "    <tr>\n",
       "      <th>2</th>\n",
       "      <td>139242</td>\n",
       "      <td>Gorgosaurus</td>\n",
       "      <td>carnivorous</td>\n",
       "      <td>large theropod</td>\n",
       "      <td>8.6</td>\n",
       "      <td>83.5</td>\n",
       "      <td>70.60</td>\n",
       "      <td>Alberta</td>\n",
       "      <td>-111.528732</td>\n",
       "      <td>50.740726</td>\n",
       "      <td>Saurischia</td>\n",
       "      <td>Tyrannosauridae</td>\n",
       "    </tr>\n",
       "    <tr>\n",
       "      <th>3</th>\n",
       "      <td>139250</td>\n",
       "      <td>Gorgosaurus</td>\n",
       "      <td>carnivorous</td>\n",
       "      <td>large theropod</td>\n",
       "      <td>8.6</td>\n",
       "      <td>83.5</td>\n",
       "      <td>70.60</td>\n",
       "      <td>Alberta</td>\n",
       "      <td>-111.549347</td>\n",
       "      <td>50.737015</td>\n",
       "      <td>Saurischia</td>\n",
       "      <td>Tyrannosauridae</td>\n",
       "    </tr>\n",
       "    <tr>\n",
       "      <th>4</th>\n",
       "      <td>139252</td>\n",
       "      <td>Gorgosaurus</td>\n",
       "      <td>carnivorous</td>\n",
       "      <td>large theropod</td>\n",
       "      <td>8.6</td>\n",
       "      <td>83.5</td>\n",
       "      <td>70.60</td>\n",
       "      <td>Alberta</td>\n",
       "      <td>-111.564636</td>\n",
       "      <td>50.723866</td>\n",
       "      <td>Saurischia</td>\n",
       "      <td>Tyrannosauridae</td>\n",
       "    </tr>\n",
       "    <tr>\n",
       "      <th>5</th>\n",
       "      <td>139253</td>\n",
       "      <td>Gorgosaurus</td>\n",
       "      <td>carnivorous</td>\n",
       "      <td>large theropod</td>\n",
       "      <td>8.6</td>\n",
       "      <td>83.5</td>\n",
       "      <td>70.60</td>\n",
       "      <td>Alberta</td>\n",
       "      <td>-111.525337</td>\n",
       "      <td>50.740471</td>\n",
       "      <td>Saurischia</td>\n",
       "      <td>Tyrannosauridae</td>\n",
       "    </tr>\n",
       "    <tr>\n",
       "      <th>6</th>\n",
       "      <td>139254</td>\n",
       "      <td>Gorgosaurus</td>\n",
       "      <td>carnivorous</td>\n",
       "      <td>large theropod</td>\n",
       "      <td>8.6</td>\n",
       "      <td>83.5</td>\n",
       "      <td>70.60</td>\n",
       "      <td>Alberta</td>\n",
       "      <td>-111.601021</td>\n",
       "      <td>50.786999</td>\n",
       "      <td>Saurischia</td>\n",
       "      <td>Tyrannosauridae</td>\n",
       "    </tr>\n",
       "  </tbody>\n",
       "</table>\n",
       "</div>"
      ],
      "text/plain": [
       "   occurrence_no               name         diet            type  length_m  \\\n",
       "0         130294  Protarchaeopteryx   omnivorous  small theropod       2.0   \n",
       "1         130295        Caudipteryx   omnivorous  small theropod       1.0   \n",
       "2         139242        Gorgosaurus  carnivorous  large theropod       8.6   \n",
       "3         139250        Gorgosaurus  carnivorous  large theropod       8.6   \n",
       "4         139252        Gorgosaurus  carnivorous  large theropod       8.6   \n",
       "5         139253        Gorgosaurus  carnivorous  large theropod       8.6   \n",
       "6         139254        Gorgosaurus  carnivorous  large theropod       8.6   \n",
       "\n",
       "   max_ma  min_ma    region         lng        lat       class  \\\n",
       "0   130.0  122.46  Liaoning  120.733330  41.799999  Saurischia   \n",
       "1   130.0  122.46  Liaoning  120.733330  41.799999  Saurischia   \n",
       "2    83.5   70.60   Alberta -111.528732  50.740726  Saurischia   \n",
       "3    83.5   70.60   Alberta -111.549347  50.737015  Saurischia   \n",
       "4    83.5   70.60   Alberta -111.564636  50.723866  Saurischia   \n",
       "5    83.5   70.60   Alberta -111.525337  50.740471  Saurischia   \n",
       "6    83.5   70.60   Alberta -111.601021  50.786999  Saurischia   \n",
       "\n",
       "              family  \n",
       "0  Archaeopterygidae  \n",
       "1    Caudipterygidae  \n",
       "2    Tyrannosauridae  \n",
       "3    Tyrannosauridae  \n",
       "4    Tyrannosauridae  \n",
       "5    Tyrannosauridae  \n",
       "6    Tyrannosauridae  "
      ]
     },
     "execution_count": 32,
     "metadata": {},
     "output_type": "execute_result"
    }
   ],
   "source": [
    "dinosaurs.head(7)"
   ]
  },
  {
   "cell_type": "code",
   "execution_count": 33,
   "metadata": {},
   "outputs": [
    {
     "data": {
      "text/html": [
       "<div>\n",
       "<style scoped>\n",
       "    .dataframe tbody tr th:only-of-type {\n",
       "        vertical-align: middle;\n",
       "    }\n",
       "\n",
       "    .dataframe tbody tr th {\n",
       "        vertical-align: top;\n",
       "    }\n",
       "\n",
       "    .dataframe thead th {\n",
       "        text-align: right;\n",
       "    }\n",
       "</style>\n",
       "<table border=\"1\" class=\"dataframe\">\n",
       "  <thead>\n",
       "    <tr style=\"text-align: right;\">\n",
       "      <th></th>\n",
       "      <th>occurrence_no</th>\n",
       "      <th>name</th>\n",
       "      <th>diet</th>\n",
       "      <th>type</th>\n",
       "      <th>length_m</th>\n",
       "      <th>max_ma</th>\n",
       "      <th>min_ma</th>\n",
       "      <th>region</th>\n",
       "      <th>lng</th>\n",
       "      <th>lat</th>\n",
       "      <th>class</th>\n",
       "      <th>family</th>\n",
       "    </tr>\n",
       "  </thead>\n",
       "  <tbody>\n",
       "    <tr>\n",
       "      <th>4944</th>\n",
       "      <td>1358692</td>\n",
       "      <td>Stegosaurus</td>\n",
       "      <td>herbivorous</td>\n",
       "      <td>armored dinosaur</td>\n",
       "      <td>9.0</td>\n",
       "      <td>157.3</td>\n",
       "      <td>145.0</td>\n",
       "      <td>Colorado</td>\n",
       "      <td>-108.728333</td>\n",
       "      <td>39.158890</td>\n",
       "      <td>Ornithischia</td>\n",
       "      <td>Stegosauridae</td>\n",
       "    </tr>\n",
       "    <tr>\n",
       "      <th>4945</th>\n",
       "      <td>1358696</td>\n",
       "      <td>Othnielosaurus</td>\n",
       "      <td>NaN</td>\n",
       "      <td>NaN</td>\n",
       "      <td>NaN</td>\n",
       "      <td>157.3</td>\n",
       "      <td>145.0</td>\n",
       "      <td>Colorado</td>\n",
       "      <td>-108.995796</td>\n",
       "      <td>39.238300</td>\n",
       "      <td>Ornithischia</td>\n",
       "      <td>NaN</td>\n",
       "    </tr>\n",
       "    <tr>\n",
       "      <th>4946</th>\n",
       "      <td>1360627</td>\n",
       "      <td>Isaberrysaura</td>\n",
       "      <td>NaN</td>\n",
       "      <td>NaN</td>\n",
       "      <td>NaN</td>\n",
       "      <td>171.6</td>\n",
       "      <td>168.4</td>\n",
       "      <td>Neuquén</td>\n",
       "      <td>-70.263290</td>\n",
       "      <td>-39.205288</td>\n",
       "      <td>Ornithischia</td>\n",
       "      <td>NaN</td>\n",
       "    </tr>\n",
       "    <tr>\n",
       "      <th>4947</th>\n",
       "      <td>1363632</td>\n",
       "      <td>Stegosaurus</td>\n",
       "      <td>herbivorous</td>\n",
       "      <td>armored dinosaur</td>\n",
       "      <td>9.0</td>\n",
       "      <td>157.3</td>\n",
       "      <td>152.1</td>\n",
       "      <td>Wyoming</td>\n",
       "      <td>-107.816666</td>\n",
       "      <td>44.650002</td>\n",
       "      <td>Ornithischia</td>\n",
       "      <td>Stegosauridae</td>\n",
       "    </tr>\n",
       "    <tr>\n",
       "      <th>4948</th>\n",
       "      <td>1363633</td>\n",
       "      <td>Othnielosaurus</td>\n",
       "      <td>NaN</td>\n",
       "      <td>NaN</td>\n",
       "      <td>NaN</td>\n",
       "      <td>157.3</td>\n",
       "      <td>152.1</td>\n",
       "      <td>Wyoming</td>\n",
       "      <td>-107.816666</td>\n",
       "      <td>44.650002</td>\n",
       "      <td>Ornithischia</td>\n",
       "      <td>NaN</td>\n",
       "    </tr>\n",
       "    <tr>\n",
       "      <th>4949</th>\n",
       "      <td>1364695</td>\n",
       "      <td>Iguanodon</td>\n",
       "      <td>herbivorous</td>\n",
       "      <td>ornithopod</td>\n",
       "      <td>10.0</td>\n",
       "      <td>145.0</td>\n",
       "      <td>139.8</td>\n",
       "      <td>Niedersachsen</td>\n",
       "      <td>9.959357</td>\n",
       "      <td>52.341167</td>\n",
       "      <td>Ornithischia</td>\n",
       "      <td>NaN</td>\n",
       "    </tr>\n",
       "    <tr>\n",
       "      <th>4950</th>\n",
       "      <td>1365108</td>\n",
       "      <td>Luluichnus</td>\n",
       "      <td>NaN</td>\n",
       "      <td>NaN</td>\n",
       "      <td>NaN</td>\n",
       "      <td>139.8</td>\n",
       "      <td>125.0</td>\n",
       "      <td>Western Australia</td>\n",
       "      <td>122.142029</td>\n",
       "      <td>-17.489502</td>\n",
       "      <td>Ornithischia</td>\n",
       "      <td>NaN</td>\n",
       "    </tr>\n",
       "  </tbody>\n",
       "</table>\n",
       "</div>"
      ],
      "text/plain": [
       "      occurrence_no            name         diet              type  length_m  \\\n",
       "4944        1358692     Stegosaurus  herbivorous  armored dinosaur       9.0   \n",
       "4945        1358696  Othnielosaurus          NaN               NaN       NaN   \n",
       "4946        1360627   Isaberrysaura          NaN               NaN       NaN   \n",
       "4947        1363632     Stegosaurus  herbivorous  armored dinosaur       9.0   \n",
       "4948        1363633  Othnielosaurus          NaN               NaN       NaN   \n",
       "4949        1364695       Iguanodon  herbivorous        ornithopod      10.0   \n",
       "4950        1365108      Luluichnus          NaN               NaN       NaN   \n",
       "\n",
       "      max_ma  min_ma             region         lng        lat         class  \\\n",
       "4944   157.3   145.0           Colorado -108.728333  39.158890  Ornithischia   \n",
       "4945   157.3   145.0           Colorado -108.995796  39.238300  Ornithischia   \n",
       "4946   171.6   168.4            Neuquén  -70.263290 -39.205288  Ornithischia   \n",
       "4947   157.3   152.1            Wyoming -107.816666  44.650002  Ornithischia   \n",
       "4948   157.3   152.1            Wyoming -107.816666  44.650002  Ornithischia   \n",
       "4949   145.0   139.8      Niedersachsen    9.959357  52.341167  Ornithischia   \n",
       "4950   139.8   125.0  Western Australia  122.142029 -17.489502  Ornithischia   \n",
       "\n",
       "             family  \n",
       "4944  Stegosauridae  \n",
       "4945            NaN  \n",
       "4946            NaN  \n",
       "4947  Stegosauridae  \n",
       "4948            NaN  \n",
       "4949            NaN  \n",
       "4950            NaN  "
      ]
     },
     "execution_count": 33,
     "metadata": {},
     "output_type": "execute_result"
    }
   ],
   "source": [
    "dinosaurs.tail(7)"
   ]
  },
  {
   "cell_type": "code",
   "execution_count": 50,
   "metadata": {},
   "outputs": [
    {
     "data": {
      "text/html": [
       "<div>\n",
       "<style scoped>\n",
       "    .dataframe tbody tr th:only-of-type {\n",
       "        vertical-align: middle;\n",
       "    }\n",
       "\n",
       "    .dataframe tbody tr th {\n",
       "        vertical-align: top;\n",
       "    }\n",
       "\n",
       "    .dataframe thead th {\n",
       "        text-align: right;\n",
       "    }\n",
       "</style>\n",
       "<table border=\"1\" class=\"dataframe\">\n",
       "  <thead>\n",
       "    <tr style=\"text-align: right;\">\n",
       "      <th></th>\n",
       "      <th>occurrence_no</th>\n",
       "      <th>length_m</th>\n",
       "      <th>max_ma</th>\n",
       "      <th>min_ma</th>\n",
       "      <th>lng</th>\n",
       "      <th>lat</th>\n",
       "    </tr>\n",
       "  </thead>\n",
       "  <tbody>\n",
       "    <tr>\n",
       "      <th>0</th>\n",
       "      <td>130294</td>\n",
       "      <td>2.0</td>\n",
       "      <td>130.0</td>\n",
       "      <td>122.46</td>\n",
       "      <td>120.733330</td>\n",
       "      <td>41.799999</td>\n",
       "    </tr>\n",
       "    <tr>\n",
       "      <th>1</th>\n",
       "      <td>130295</td>\n",
       "      <td>1.0</td>\n",
       "      <td>130.0</td>\n",
       "      <td>122.46</td>\n",
       "      <td>120.733330</td>\n",
       "      <td>41.799999</td>\n",
       "    </tr>\n",
       "    <tr>\n",
       "      <th>2</th>\n",
       "      <td>139242</td>\n",
       "      <td>8.6</td>\n",
       "      <td>83.5</td>\n",
       "      <td>70.60</td>\n",
       "      <td>-111.528732</td>\n",
       "      <td>50.740726</td>\n",
       "    </tr>\n",
       "    <tr>\n",
       "      <th>3</th>\n",
       "      <td>139250</td>\n",
       "      <td>8.6</td>\n",
       "      <td>83.5</td>\n",
       "      <td>70.60</td>\n",
       "      <td>-111.549347</td>\n",
       "      <td>50.737015</td>\n",
       "    </tr>\n",
       "    <tr>\n",
       "      <th>4</th>\n",
       "      <td>139252</td>\n",
       "      <td>8.6</td>\n",
       "      <td>83.5</td>\n",
       "      <td>70.60</td>\n",
       "      <td>-111.564636</td>\n",
       "      <td>50.723866</td>\n",
       "    </tr>\n",
       "    <tr>\n",
       "      <th>5</th>\n",
       "      <td>139253</td>\n",
       "      <td>8.6</td>\n",
       "      <td>83.5</td>\n",
       "      <td>70.60</td>\n",
       "      <td>-111.525337</td>\n",
       "      <td>50.740471</td>\n",
       "    </tr>\n",
       "  </tbody>\n",
       "</table>\n",
       "</div>"
      ],
      "text/plain": [
       "   occurrence_no  length_m  max_ma  min_ma         lng        lat\n",
       "0         130294       2.0   130.0  122.46  120.733330  41.799999\n",
       "1         130295       1.0   130.0  122.46  120.733330  41.799999\n",
       "2         139242       8.6    83.5   70.60 -111.528732  50.740726\n",
       "3         139250       8.6    83.5   70.60 -111.549347  50.737015\n",
       "4         139252       8.6    83.5   70.60 -111.564636  50.723866\n",
       "5         139253       8.6    83.5   70.60 -111.525337  50.740471"
      ]
     },
     "execution_count": 50,
     "metadata": {},
     "output_type": "execute_result"
    }
   ],
   "source": [
    "### continous data\n",
    "\n",
    "continous_data = dinosaurs.select_dtypes(exclude='object')\n",
    "continous_data.head(6)\n"
   ]
  },
  {
   "cell_type": "code",
   "execution_count": 51,
   "metadata": {},
   "outputs": [
    {
     "data": {
      "text/plain": [
       "array([[<Axes: title={'center': 'occurrence_no'}>,\n",
       "        <Axes: title={'center': 'length_m'}>],\n",
       "       [<Axes: title={'center': 'max_ma'}>,\n",
       "        <Axes: title={'center': 'min_ma'}>],\n",
       "       [<Axes: title={'center': 'lng'}>, <Axes: title={'center': 'lat'}>]],\n",
       "      dtype=object)"
      ]
     },
     "execution_count": 51,
     "metadata": {},
     "output_type": "execute_result"
    },
    {
     "data": {
      "image/png": "[encoded data removed]",
      "text/plain": [
       "<Figure size 640x480 with 6 Axes>"
      ]
     },
     "metadata": {},
     "output_type": "display_data"
    }
   ],
   "source": [
    "## visualing the missing values\n",
    "dinosaurs.hist()"
   ]
  },
  {
   "cell_type": "code",
   "execution_count": null,
   "metadata": {},
   "outputs": [],
   "source": []
  },
  {
   "cell_type": "code",
   "execution_count": 34,
   "metadata": {},
   "outputs": [
    {
     "data": {
      "text/plain": [
       "occurrence_no       0\n",
       "name                0\n",
       "diet             1355\n",
       "type             1355\n",
       "length_m         1383\n",
       "max_ma              0\n",
       "min_ma              0\n",
       "region             42\n",
       "lng                 0\n",
       "lat                 0\n",
       "class               0\n",
       "family           1457\n",
       "dtype: int64"
      ]
     },
     "execution_count": 34,
     "metadata": {},
     "output_type": "execute_result"
    }
   ],
   "source": [
    "#### checking for missing values\n",
    "missing_values = dinosaurs.isnull().sum()\n",
    "missing_values"
   ]
  },
  {
   "cell_type": "code",
   "execution_count": 35,
   "metadata": {},
   "outputs": [
    {
     "data": {
      "text/plain": [
       "0       False\n",
       "1       False\n",
       "2       False\n",
       "3       False\n",
       "4       False\n",
       "        ...  \n",
       "4946    False\n",
       "4947    False\n",
       "4948    False\n",
       "4949    False\n",
       "4950    False\n",
       "Length: 4951, dtype: bool"
      ]
     },
     "execution_count": 35,
     "metadata": {},
     "output_type": "execute_result"
    }
   ],
   "source": [
    "dinosaurs.duplicated()"
   ]
  },
  {
   "cell_type": "code",
   "execution_count": 36,
   "metadata": {},
   "outputs": [
    {
     "data": {
      "text/plain": [
       "(4951, 12)"
      ]
     },
     "execution_count": 36,
     "metadata": {},
     "output_type": "execute_result"
    }
   ],
   "source": [
    "dinosaurs.shape"
   ]
  },
  {
   "cell_type": "code",
   "execution_count": 37,
   "metadata": {},
   "outputs": [
    {
     "name": "stdout",
     "output_type": "stream",
     "text": [
      "<class 'pandas.core.frame.DataFrame'>\n",
      "RangeIndex: 4951 entries, 0 to 4950\n",
      "Data columns (total 12 columns):\n",
      " #   Column         Non-Null Count  Dtype  \n",
      "---  ------         --------------  -----  \n",
      " 0   occurrence_no  4951 non-null   int64  \n",
      " 1   name           4951 non-null   object \n",
      " 2   diet           3596 non-null   object \n",
      " 3   type           3596 non-null   object \n",
      " 4   length_m       3568 non-null   float64\n",
      " 5   max_ma         4951 non-null   float64\n",
      " 6   min_ma         4951 non-null   float64\n",
      " 7   region         4909 non-null   object \n",
      " 8   lng            4951 non-null   float64\n",
      " 9   lat            4951 non-null   float64\n",
      " 10  class          4951 non-null   object \n",
      " 11  family         3494 non-null   object \n",
      "dtypes: float64(5), int64(1), object(6)\n",
      "memory usage: 464.3+ KB\n"
     ]
    }
   ],
   "source": [
    "dinosaurs.info()"
   ]
  },
  {
   "cell_type": "code",
   "execution_count": 38,
   "metadata": {},
   "outputs": [],
   "source": [
    "cont_data = dinosaurs.select_dtypes(exclude='object')"
   ]
  },
  {
   "cell_type": "code",
   "execution_count": 39,
   "metadata": {},
   "outputs": [
    {
     "data": {
      "text/html": [
       "<div>\n",
       "<style scoped>\n",
       "    .dataframe tbody tr th:only-of-type {\n",
       "        vertical-align: middle;\n",
       "    }\n",
       "\n",
       "    .dataframe tbody tr th {\n",
       "        vertical-align: top;\n",
       "    }\n",
       "\n",
       "    .dataframe thead th {\n",
       "        text-align: right;\n",
       "    }\n",
       "</style>\n",
       "<table border=\"1\" class=\"dataframe\">\n",
       "  <thead>\n",
       "    <tr style=\"text-align: right;\">\n",
       "      <th></th>\n",
       "      <th>occurrence_no</th>\n",
       "      <th>length_m</th>\n",
       "      <th>max_ma</th>\n",
       "      <th>min_ma</th>\n",
       "      <th>lng</th>\n",
       "      <th>lat</th>\n",
       "    </tr>\n",
       "  </thead>\n",
       "  <tbody>\n",
       "    <tr>\n",
       "      <th>0</th>\n",
       "      <td>130294</td>\n",
       "      <td>2.0</td>\n",
       "      <td>130.0</td>\n",
       "      <td>122.46</td>\n",
       "      <td>120.733330</td>\n",
       "      <td>41.799999</td>\n",
       "    </tr>\n",
       "    <tr>\n",
       "      <th>1</th>\n",
       "      <td>130295</td>\n",
       "      <td>1.0</td>\n",
       "      <td>130.0</td>\n",
       "      <td>122.46</td>\n",
       "      <td>120.733330</td>\n",
       "      <td>41.799999</td>\n",
       "    </tr>\n",
       "    <tr>\n",
       "      <th>2</th>\n",
       "      <td>139242</td>\n",
       "      <td>8.6</td>\n",
       "      <td>83.5</td>\n",
       "      <td>70.60</td>\n",
       "      <td>-111.528732</td>\n",
       "      <td>50.740726</td>\n",
       "    </tr>\n",
       "    <tr>\n",
       "      <th>3</th>\n",
       "      <td>139250</td>\n",
       "      <td>8.6</td>\n",
       "      <td>83.5</td>\n",
       "      <td>70.60</td>\n",
       "      <td>-111.549347</td>\n",
       "      <td>50.737015</td>\n",
       "    </tr>\n",
       "    <tr>\n",
       "      <th>4</th>\n",
       "      <td>139252</td>\n",
       "      <td>8.6</td>\n",
       "      <td>83.5</td>\n",
       "      <td>70.60</td>\n",
       "      <td>-111.564636</td>\n",
       "      <td>50.723866</td>\n",
       "    </tr>\n",
       "    <tr>\n",
       "      <th>...</th>\n",
       "      <td>...</td>\n",
       "      <td>...</td>\n",
       "      <td>...</td>\n",
       "      <td>...</td>\n",
       "      <td>...</td>\n",
       "      <td>...</td>\n",
       "    </tr>\n",
       "    <tr>\n",
       "      <th>4946</th>\n",
       "      <td>1360627</td>\n",
       "      <td>NaN</td>\n",
       "      <td>171.6</td>\n",
       "      <td>168.40</td>\n",
       "      <td>-70.263290</td>\n",
       "      <td>-39.205288</td>\n",
       "    </tr>\n",
       "    <tr>\n",
       "      <th>4947</th>\n",
       "      <td>1363632</td>\n",
       "      <td>9.0</td>\n",
       "      <td>157.3</td>\n",
       "      <td>152.10</td>\n",
       "      <td>-107.816666</td>\n",
       "      <td>44.650002</td>\n",
       "    </tr>\n",
       "    <tr>\n",
       "      <th>4948</th>\n",
       "      <td>1363633</td>\n",
       "      <td>NaN</td>\n",
       "      <td>157.3</td>\n",
       "      <td>152.10</td>\n",
       "      <td>-107.816666</td>\n",
       "      <td>44.650002</td>\n",
       "    </tr>\n",
       "    <tr>\n",
       "      <th>4949</th>\n",
       "      <td>1364695</td>\n",
       "      <td>10.0</td>\n",
       "      <td>145.0</td>\n",
       "      <td>139.80</td>\n",
       "      <td>9.959357</td>\n",
       "      <td>52.341167</td>\n",
       "    </tr>\n",
       "    <tr>\n",
       "      <th>4950</th>\n",
       "      <td>1365108</td>\n",
       "      <td>NaN</td>\n",
       "      <td>139.8</td>\n",
       "      <td>125.00</td>\n",
       "      <td>122.142029</td>\n",
       "      <td>-17.489502</td>\n",
       "    </tr>\n",
       "  </tbody>\n",
       "</table>\n",
       "<p>4951 rows × 6 columns</p>\n",
       "</div>"
      ],
      "text/plain": [
       "      occurrence_no  length_m  max_ma  min_ma         lng        lat\n",
       "0            130294       2.0   130.0  122.46  120.733330  41.799999\n",
       "1            130295       1.0   130.0  122.46  120.733330  41.799999\n",
       "2            139242       8.6    83.5   70.60 -111.528732  50.740726\n",
       "3            139250       8.6    83.5   70.60 -111.549347  50.737015\n",
       "4            139252       8.6    83.5   70.60 -111.564636  50.723866\n",
       "...             ...       ...     ...     ...         ...        ...\n",
       "4946        1360627       NaN   171.6  168.40  -70.263290 -39.205288\n",
       "4947        1363632       9.0   157.3  152.10 -107.816666  44.650002\n",
       "4948        1363633       NaN   157.3  152.10 -107.816666  44.650002\n",
       "4949        1364695      10.0   145.0  139.80    9.959357  52.341167\n",
       "4950        1365108       NaN   139.8  125.00  122.142029 -17.489502\n",
       "\n",
       "[4951 rows x 6 columns]"
      ]
     },
     "execution_count": 39,
     "metadata": {},
     "output_type": "execute_result"
    }
   ],
   "source": [
    "cont_data"
   ]
  },
  {
   "cell_type": "code",
   "execution_count": 40,
   "metadata": {},
   "outputs": [],
   "source": [
    "def outliers(dinosaurs):\n",
    "    for x in dinosaurs.columns:\n",
    "        plt.boxplot(dinosaurs[x])\n",
    "        plt.title(x)\n",
    "        plt.show(x)"
   ]
  },
  {
   "cell_type": "code",
   "execution_count": null,
   "metadata": {},
   "outputs": [],
   "source": []
  },
  {
   "cell_type": "code",
   "execution_count": 41,
   "metadata": {},
   "outputs": [
    {
     "data": {
      "image/png": "[encoded data removed]",
      "text/plain": [
       "<Figure size 640x480 with 1 Axes>"
      ]
     },
     "metadata": {},
     "output_type": "display_data"
    },
    {
     "data": {
      "image/png": "[encoded data removed]",
      "text/plain": [
       "<Figure size 640x480 with 1 Axes>"
      ]
     },
     "metadata": {},
     "output_type": "display_data"
    },
    {
     "data": {
      "image/png": "[encoded data removed]",
      "text/plain": [
       "<Figure size 640x480 with 1 Axes>"
      ]
     },
     "metadata": {},
     "output_type": "display_data"
    },
    {
     "data": {
      "image/png": "[encoded data removed]",
      "text/plain": [
       "<Figure size 640x480 with 1 Axes>"
      ]
     },
     "metadata": {},
     "output_type": "display_data"
    },
    {
     "data": {
      "image/png": "[encoded data removed]",
      "text/plain": [
       "<Figure size 640x480 with 1 Axes>"
      ]
     },
     "metadata": {},
     "output_type": "display_data"
    },
    {
     "data": {
      "image/png": "[encoded data removed]",
      "text/plain": [
       "<Figure size 640x480 with 1 Axes>"
      ]
     },
     "metadata": {},
     "output_type": "display_data"
    }
   ],
   "source": [
    "outliers(cont_data)"
   ]
  },
  {
   "cell_type": "code",
   "execution_count": 42,
   "metadata": {},
   "outputs": [],
   "source": [
    "def removing_outliers(dinosaurs):\n",
    "    for i in dinosaurs.columns:\n",
    "        q1 = dinosaurs[i].quantile(0.25)\n",
    "        q3 = dinosaurs[i].quantile(0.75)\n",
    "        iqr = q3 - q1\n",
    "        lower_limit = q1 - 1.5 * iqr\n",
    "        upper_limit = q3 + 1.5 * iqr\n",
    "        dinosaurs[i]= np.where(dinosaurs[i]>upper_limit,upper_limit,dinosaurs[i])\n",
    "        dinosaurs[i] = np.where(dinosaurs[i]<lower_limit,lower_limit,dinosaurs[i])"
   ]
  },
  {
   "cell_type": "code",
   "execution_count": 43,
   "metadata": {},
   "outputs": [],
   "source": [
    "removing_outliers(cont_data)"
   ]
  },
  {
   "cell_type": "code",
   "execution_count": 44,
   "metadata": {},
   "outputs": [
    {
     "data": {
      "image/png": "[encoded data removed]",
      "text/plain": [
       "<Figure size 640x480 with 1 Axes>"
      ]
     },
     "metadata": {},
     "output_type": "display_data"
    },
    {
     "data": {
      "image/png": "[encoded data removed]",
      "text/plain": [
       "<Figure size 640x480 with 1 Axes>"
      ]
     },
     "metadata": {},
     "output_type": "display_data"
    },
    {
     "data": {
      "image/png": "[encoded data removed]",
      "text/plain": [
       "<Figure size 640x480 with 1 Axes>"
      ]
     },
     "metadata": {},
     "output_type": "display_data"
    },
    {
     "data": {
      "image/png": "[encoded data removed]",
      "text/plain": [
       "<Figure size 640x480 with 1 Axes>"
      ]
     },
     "metadata": {},
     "output_type": "display_data"
    },
    {
     "data": {
      "image/png": "[encoded data removed]",
      "text/plain": [
       "<Figure size 640x480 with 1 Axes>"
      ]
     },
     "metadata": {},
     "output_type": "display_data"
    },
    {
     "data": {
      "image/png": "[encoded data removed]",
      "text/plain": [
       "<Figure size 640x480 with 1 Axes>"
      ]
     },
     "metadata": {},
     "output_type": "display_data"
    }
   ],
   "source": [
    "outliers(cont_data)"
   ]
  },
  {
   "cell_type": "code",
   "execution_count": 45,
   "metadata": {},
   "outputs": [],
   "source": [
    "def loutliers(dinosaurs):\n",
    "    for x in dinosaurs.columns:\n",
    "        print(x)\n",
    "        q1 = dinosaurs[x].quantile(0.25)\n",
    "        q3 = dinosaurs[x].quantile(0.75)\n",
    "        iqr = q3 - q1\n",
    "        lower = q1 - 1.5 * iqr\n",
    "        upper = q3 + 1.5 * iqr\n",
    "        print(lower)\n",
    "        print(upper)\n",
    "        dinosaurs = dinosaurs[(dinosaurs[x] > lower) & (dinosaurs[x] < upper)]"
   ]
  },
  {
   "cell_type": "code",
   "execution_count": 46,
   "metadata": {},
   "outputs": [
    {
     "name": "stdout",
     "output_type": "stream",
     "text": [
      "occurrence_no\n",
      "-83543.5\n",
      "1438232.5\n",
      "length_m\n",
      "-7.5\n",
      "20.5\n",
      "max_ma\n",
      "-29.45000000000003\n",
      "241.35000000000002\n",
      "min_ma\n",
      "-23.17500000000001\n",
      "214.625\n",
      "lng\n",
      "-286.94654887499996\n",
      "186.785040125\n",
      "lat\n",
      "25.385424249999996\n",
      "63.328742250000005\n"
     ]
    }
   ],
   "source": [
    "loutliers(cont_data)"
   ]
  },
  {
   "cell_type": "markdown",
   "metadata": {},
   "source": [
    "1. How many different dinosaur names are present in the data?"
   ]
  },
  {
   "cell_type": "code",
   "execution_count": 53,
   "metadata": {},
   "outputs": [
    {
     "name": "stdout",
     "output_type": "stream",
     "text": [
      "Number of different dinosaur names: 1042\n"
     ]
    }
   ],
   "source": [
    "# Count the number of unique dinosaur names\n",
    "unique_dinosaur_names = dinosaurs['name'].nunique()\n",
    "print(f\"Number of different dinosaur names: {unique_dinosaur_names}\")\n"
   ]
  },
  {
   "cell_type": "markdown",
   "metadata": {},
   "source": [
    "2. Which was the largest dinosaur? What about missing data in the dataset?"
   ]
  },
  {
   "cell_type": "code",
   "execution_count": 56,
   "metadata": {},
   "outputs": [
    {
     "name": "stdout",
     "output_type": "stream",
     "text": [
      "Largest dinosaur:\n",
      "occurrence_no          465134\n",
      "name              Supersaurus\n",
      "diet              herbivorous\n",
      "type                 sauropod\n",
      "length_m                 35.0\n",
      "max_ma                  155.7\n",
      "min_ma                  145.0\n",
      "region               Colorado\n",
      "lng               -108.397202\n",
      "lat                 38.583099\n",
      "class              Saurischia\n",
      "family           Diplodocidae\n",
      "Name: 570, dtype: object\n"
     ]
    }
   ],
   "source": [
    "# Find the largest dinosaur by length\n",
    "largest_dinosaur = dinosaurs.loc[dinosaurs['length_m'].idxmax()]\n",
    "print(f\"Largest dinosaur:\\n{largest_dinosaur}\")\n"
   ]
  },
  {
   "cell_type": "code",
   "execution_count": 57,
   "metadata": {},
   "outputs": [
    {
     "name": "stdout",
     "output_type": "stream",
     "text": [
      "Missing data in the dataset:\n",
      " occurrence_no       0\n",
      "name                0\n",
      "diet             1355\n",
      "type             1355\n",
      "length_m         1383\n",
      "max_ma              0\n",
      "min_ma              0\n",
      "region             42\n",
      "lng                 0\n",
      "lat                 0\n",
      "class               0\n",
      "family           1457\n",
      "dtype: int64\n"
     ]
    }
   ],
   "source": [
    "\n",
    "# Check for missing data\n",
    "missing_data = dinosaurs.isna().sum()\n",
    "print(\"Missing data in the dataset:\\n\", missing_data)\n"
   ]
  },
  {
   "cell_type": "markdown",
   "metadata": {},
   "source": [
    "3. What dinosaur type has the most occurrences in this dataset? Create a visualization."
   ]
  },
  {
   "cell_type": "code",
   "execution_count": 59,
   "metadata": {},
   "outputs": [
    {
     "name": "stderr",
     "output_type": "stream",
     "text": [
      "C:\\Users\\EMMANUEL NSUBUGA\\AppData\\Local\\Temp\\ipykernel_27248\\4270657333.py:6: FutureWarning: \n",
      "\n",
      "Passing `palette` without assigning `hue` is deprecated and will be removed in v0.14.0. Assign the `x` variable to `hue` and set `legend=False` for the same effect.\n",
      "\n",
      "  sns.barplot(x=dinosaur_type_counts.index, y=dinosaur_type_counts.values, palette='viridis')\n"
     ]
    },
    {
     "data": {
      "image/png": "[encoded data removed]",
      "text/plain": [
       "<Figure size 1000x600 with 1 Axes>"
      ]
     },
     "metadata": {},
     "output_type": "display_data"
    }
   ],
   "source": [
    "# Count occurrences of each dinosaur type\n",
    "dinosaur_type_counts = dinosaurs['type'].value_counts()\n",
    "\n",
    "# Create a bar chart\n",
    "plt.figure(figsize=(10, 6))\n",
    "sns.barplot(x=dinosaur_type_counts.index, y=dinosaur_type_counts.values, palette='viridis')\n",
    "plt.xlabel('Dinosaur Type')\n",
    "plt.ylabel('Number of Occurrences')\n",
    "plt.title('Number of Dinosaurs per Type')\n",
    "plt.xticks(rotation=45)\n",
    "plt.show()"
   ]
  },
  {
   "cell_type": "markdown",
   "metadata": {},
   "source": [
    "5.Create an interactive map showing each record."
   ]
  },
  {
   "cell_type": "code",
   "execution_count": null,
   "metadata": {},
   "outputs": [],
   "source": [
    "import folium\n",
    "\n",
    "# Create a map centered around the mean coordinates\n",
    "m = folium.Map(location=[dinosaurs['lat'].mean(), dinosaurs['lng'].mean()], zoom_start=2)\n",
    "\n",
    "# Add each dinosaur record to the map\n",
    "for idx, row in dinosaurs.iterrows():\n",
    "    folium.Marker(\n",
    "        location=[row['lat'], row['lng']],\n",
    "        popup=f\"{row['name']} ({row['type']})\\nLength: {row['length_m']} m\\nDiet: {row['diet']}\",\n",
    "    ).add_to(m)\n",
    "\n",
    "# Save the map as an HTML file and display it\n",
    "m.save('/mnt/data/dinosaur_map.html')\n",
    "m\n"
   ]
  },
  {
   "cell_type": "markdown",
   "metadata": {},
   "source": [
    "7. Generate descriptive statistics:\n",
    "\n"
   ]
  },
  {
   "cell_type": "code",
   "execution_count": 60,
   "metadata": {},
   "outputs": [
    {
     "name": "stdout",
     "output_type": "stream",
     "text": [
      "       occurrence_no     length_m       max_ma       min_ma          lng  \\\n",
      "count   4.951000e+03  3568.000000  4951.000000  4951.000000  4951.000000   \n",
      "mean    6.838323e+05     8.212688   117.518477   106.622270   -37.048675   \n",
      "std     3.021524e+05     6.629887    45.270821    44.395885    84.591106   \n",
      "min     1.302090e+05     0.450000    70.600000    66.000000  -153.247498   \n",
      "25%     4.871225e+05     3.000000    83.500000    70.600000  -108.258705   \n",
      "50%     5.618050e+05     6.700000    99.600000    89.800000   -96.099998   \n",
      "75%     8.675665e+05    10.000000   155.700000   145.000000    27.383331   \n",
      "max     1.365954e+06    35.000000   252.170000   247.200000   565.000000   \n",
      "\n",
      "               lat  \n",
      "count  4951.000000  \n",
      "mean     34.591448  \n",
      "std      23.961138  \n",
      "min     -84.333336  \n",
      "25%      36.274439  \n",
      "50%      42.611198  \n",
      "75%      47.745138  \n",
      "max      78.101875  \n"
     ]
    }
   ],
   "source": [
    "descriptive_stats = dinosaurs.describe()\n",
    "print(descriptive_stats)\n"
   ]
  }
 ],
 "metadata": {
  "kernelspec": {
   "display_name": "Python 3",
   "language": "python",
   "name": "python3"
  },
  "language_info": {
   "codemirror_mode": {
    "name": "ipython",
    "version": 3
   },
   "file_extension": ".py",
   "mimetype": "text/x-python",
   "name": "python",
   "nbconvert_exporter": "python",
   "pygments_lexer": "ipython3",
   "version": "3.12.1"
  }
 },
 "nbformat": 4,
 "nbformat_minor": 2
}
